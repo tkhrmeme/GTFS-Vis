{
 "cells": [
  {
   "cell_type": "markdown",
   "metadata": {},
   "source": [
    "#  GTFSデータをpydeckで可視化する"
   ]
  },
  {
   "cell_type": "markdown",
   "metadata": {},
   "source": [
    "## 概要"
   ]
  },
  {
   "cell_type": "markdown",
   "metadata": {},
   "source": [
    "- GTFSのデータを [deck.gl](https://deck.gl/#/)を Python で利用するためのパッケージ pydeckを使って可視化を行う\n",
    " - [pydeck: Unlocking deck.gl for use in Python](https://medium.com/vis-gl/pydeck-unlocking-deck-gl-for-use-in-python-ce891532f986)"
   ]
  },
  {
   "cell_type": "markdown",
   "metadata": {},
   "source": [
    "背景地図にmapboxを利用するため、環境変数にアクセスキーを設定しておく\n",
    "\n",
    "```\n",
    "export MAPBOX_API_KEY=<your access key>\n",
    "```"
   ]
  },
  {
   "cell_type": "markdown",
   "metadata": {},
   "source": [
    "### 利用したGTFSデータ"
   ]
  },
  {
   "cell_type": "markdown",
   "metadata": {},
   "source": [
    "- [北海道拓殖バス オープンデータ](https://www.takubus.com/%E3%82%AA%E3%83%BC%E3%83%97%E3%83%B3%E3%83%87%E3%83%BC%E3%82%BF/)"
   ]
  },
  {
   "cell_type": "markdown",
   "metadata": {},
   "source": [
    "### 必要なパッケージのインポート"
   ]
  },
  {
   "cell_type": "code",
   "execution_count": 42,
   "metadata": {},
   "outputs": [],
   "source": [
    "import os\n",
    "import zipfile\n",
    "import pandas as pd\n",
    "import json\n",
    "\n",
    "import pydeck"
   ]
  },
  {
   "cell_type": "markdown",
   "metadata": {},
   "source": [
    "### ディレクトリの構成\n",
    "\n",
    "dataフォルダにはGTFSのZIPファイルを格納しておく"
   ]
  },
  {
   "cell_type": "code",
   "execution_count": 43,
   "metadata": {},
   "outputs": [],
   "source": [
    "data_path = \"data\"\n",
    "tmp_path = \"tmp\"\n",
    "output_path = \"output\""
   ]
  },
  {
   "cell_type": "markdown",
   "metadata": {},
   "source": [
    "### GTFSのZIPファイルから必要なファイルを展開"
   ]
  },
  {
   "cell_type": "code",
   "execution_count": 44,
   "metadata": {},
   "outputs": [],
   "source": [
    "# GTFSファイルの指定\n",
    "gtfs_file = \"GTFS_Takushoku_Obihiro.zip\"\n",
    "\n",
    "# 必要なファイルを展開しておく\n",
    "with zipfile.ZipFile(os.path.join(os.getcwd(), f\"{data_path}/{gtfs_file}\")) as _zip:\n",
    "    _zip.extract(\"stops.txt\", tmp_path)\n",
    "    _zip.extract(\"stop_times.txt\", tmp_path)\n",
    "    _zip.extract(\"shapes.txt\", tmp_path)\n",
    "    _zip.extract(\"trips.txt\", tmp_path)\n",
    "    _zip.extract(\"routes.txt\", tmp_path)"
   ]
  },
  {
   "cell_type": "markdown",
   "metadata": {},
   "source": [
    "### 停留所の座標データの読み込み"
   ]
  },
  {
   "cell_type": "code",
   "execution_count": 45,
   "metadata": {},
   "outputs": [
    {
     "data": {
      "text/html": [
       "<div>\n",
       "<style scoped>\n",
       "    .dataframe tbody tr th:only-of-type {\n",
       "        vertical-align: middle;\n",
       "    }\n",
       "\n",
       "    .dataframe tbody tr th {\n",
       "        vertical-align: top;\n",
       "    }\n",
       "\n",
       "    .dataframe thead th {\n",
       "        text-align: right;\n",
       "    }\n",
       "</style>\n",
       "<table border=\"1\" class=\"dataframe\">\n",
       "  <thead>\n",
       "    <tr style=\"text-align: right;\">\n",
       "      <th></th>\n",
       "      <th>stop_id</th>\n",
       "      <th>stop_code</th>\n",
       "      <th>stop_name</th>\n",
       "      <th>stop_desc</th>\n",
       "      <th>stop_lat</th>\n",
       "      <th>stop_lon</th>\n",
       "      <th>zone_id</th>\n",
       "      <th>location_type</th>\n",
       "      <th>platform_code</th>\n",
       "      <th>stop_z</th>\n",
       "    </tr>\n",
       "  </thead>\n",
       "  <tbody>\n",
       "    <tr>\n",
       "      <th>0</th>\n",
       "      <td>1000_01</td>\n",
       "      <td>NaN</td>\n",
       "      <td>帯広駅バスターミナル</td>\n",
       "      <td>NaN</td>\n",
       "      <td>42.918091</td>\n",
       "      <td>143.203767</td>\n",
       "      <td>1000_01</td>\n",
       "      <td>0</td>\n",
       "      <td>NaN</td>\n",
       "      <td>0</td>\n",
       "    </tr>\n",
       "    <tr>\n",
       "      <th>1</th>\n",
       "      <td>1000_02</td>\n",
       "      <td>2番のりば</td>\n",
       "      <td>帯広駅バスターミナル</td>\n",
       "      <td>ターミナル2番のりば</td>\n",
       "      <td>42.918120</td>\n",
       "      <td>143.203642</td>\n",
       "      <td>1000_02</td>\n",
       "      <td>0</td>\n",
       "      <td>2</td>\n",
       "      <td>0</td>\n",
       "    </tr>\n",
       "    <tr>\n",
       "      <th>2</th>\n",
       "      <td>1000_03</td>\n",
       "      <td>3番のりば</td>\n",
       "      <td>帯広駅バスターミナル</td>\n",
       "      <td>ターミナル3番のりば</td>\n",
       "      <td>42.918246</td>\n",
       "      <td>143.203402</td>\n",
       "      <td>1000_03</td>\n",
       "      <td>0</td>\n",
       "      <td>3</td>\n",
       "      <td>0</td>\n",
       "    </tr>\n",
       "    <tr>\n",
       "      <th>3</th>\n",
       "      <td>1000_04</td>\n",
       "      <td>4番のりば</td>\n",
       "      <td>帯広駅バスターミナル</td>\n",
       "      <td>ターミナル4番のりば</td>\n",
       "      <td>42.918326</td>\n",
       "      <td>143.203227</td>\n",
       "      <td>1000_04</td>\n",
       "      <td>0</td>\n",
       "      <td>4</td>\n",
       "      <td>0</td>\n",
       "    </tr>\n",
       "    <tr>\n",
       "      <th>4</th>\n",
       "      <td>1000_06</td>\n",
       "      <td>6番のりば</td>\n",
       "      <td>帯広駅バスターミナル</td>\n",
       "      <td>ターミナル5番のりば</td>\n",
       "      <td>42.918635</td>\n",
       "      <td>143.203425</td>\n",
       "      <td>1000_06</td>\n",
       "      <td>0</td>\n",
       "      <td>6</td>\n",
       "      <td>0</td>\n",
       "    </tr>\n",
       "    <tr>\n",
       "      <th>...</th>\n",
       "      <td>...</td>\n",
       "      <td>...</td>\n",
       "      <td>...</td>\n",
       "      <td>...</td>\n",
       "      <td>...</td>\n",
       "      <td>...</td>\n",
       "      <td>...</td>\n",
       "      <td>...</td>\n",
       "      <td>...</td>\n",
       "      <td>...</td>\n",
       "    </tr>\n",
       "    <tr>\n",
       "      <th>923</th>\n",
       "      <td>9843_01</td>\n",
       "      <td>NaN</td>\n",
       "      <td>役場御影支所前</td>\n",
       "      <td>バス停ポールは支所玄関前（上下線共通）</td>\n",
       "      <td>42.945692</td>\n",
       "      <td>142.942203</td>\n",
       "      <td>9843_01</td>\n",
       "      <td>0</td>\n",
       "      <td>NaN</td>\n",
       "      <td>0</td>\n",
       "    </tr>\n",
       "    <tr>\n",
       "      <th>924</th>\n",
       "      <td>9844_01</td>\n",
       "      <td>NaN</td>\n",
       "      <td>世代間交流センター前</td>\n",
       "      <td>バス停ポールは施設玄関前（上下線共通）</td>\n",
       "      <td>42.944764</td>\n",
       "      <td>142.939803</td>\n",
       "      <td>9844_01</td>\n",
       "      <td>0</td>\n",
       "      <td>NaN</td>\n",
       "      <td>0</td>\n",
       "    </tr>\n",
       "    <tr>\n",
       "      <th>925</th>\n",
       "      <td>9845_01</td>\n",
       "      <td>NaN</td>\n",
       "      <td>羽帯　国道38号線沿い《清水町コミュニティバス》</td>\n",
       "      <td>NaN</td>\n",
       "      <td>42.959234</td>\n",
       "      <td>142.908407</td>\n",
       "      <td>9845_01</td>\n",
       "      <td>0</td>\n",
       "      <td>NaN</td>\n",
       "      <td>0</td>\n",
       "    </tr>\n",
       "    <tr>\n",
       "      <th>926</th>\n",
       "      <td>9845_02</td>\n",
       "      <td>NaN</td>\n",
       "      <td>羽帯　国道38号線沿い《清水町コミュニティバス》</td>\n",
       "      <td>NaN</td>\n",
       "      <td>42.959453</td>\n",
       "      <td>142.907377</td>\n",
       "      <td>9845_02</td>\n",
       "      <td>0</td>\n",
       "      <td>NaN</td>\n",
       "      <td>0</td>\n",
       "    </tr>\n",
       "    <tr>\n",
       "      <th>927</th>\n",
       "      <td>9792_01</td>\n",
       "      <td>NaN</td>\n",
       "      <td>かえで団地《新得町コミュニティバス》</td>\n",
       "      <td>NaN</td>\n",
       "      <td>43.092244</td>\n",
       "      <td>142.853692</td>\n",
       "      <td>9792_01</td>\n",
       "      <td>0</td>\n",
       "      <td>NaN</td>\n",
       "      <td>0</td>\n",
       "    </tr>\n",
       "  </tbody>\n",
       "</table>\n",
       "<p>928 rows × 10 columns</p>\n",
       "</div>"
      ],
      "text/plain": [
       "     stop_id stop_code                 stop_name            stop_desc  \\\n",
       "0    1000_01       NaN                帯広駅バスターミナル                  NaN   \n",
       "1    1000_02     2番のりば                帯広駅バスターミナル           ターミナル2番のりば   \n",
       "2    1000_03     3番のりば                帯広駅バスターミナル           ターミナル3番のりば   \n",
       "3    1000_04     4番のりば                帯広駅バスターミナル           ターミナル4番のりば   \n",
       "4    1000_06     6番のりば                帯広駅バスターミナル           ターミナル5番のりば   \n",
       "..       ...       ...                       ...                  ...   \n",
       "923  9843_01       NaN                   役場御影支所前  バス停ポールは支所玄関前（上下線共通）   \n",
       "924  9844_01       NaN                世代間交流センター前  バス停ポールは施設玄関前（上下線共通）   \n",
       "925  9845_01       NaN  羽帯　国道38号線沿い《清水町コミュニティバス》                  NaN   \n",
       "926  9845_02       NaN  羽帯　国道38号線沿い《清水町コミュニティバス》                  NaN   \n",
       "927  9792_01       NaN        かえで団地《新得町コミュニティバス》                  NaN   \n",
       "\n",
       "      stop_lat    stop_lon  zone_id  location_type platform_code  stop_z  \n",
       "0    42.918091  143.203767  1000_01              0           NaN       0  \n",
       "1    42.918120  143.203642  1000_02              0             2       0  \n",
       "2    42.918246  143.203402  1000_03              0             3       0  \n",
       "3    42.918326  143.203227  1000_04              0             4       0  \n",
       "4    42.918635  143.203425  1000_06              0             6       0  \n",
       "..         ...         ...      ...            ...           ...     ...  \n",
       "923  42.945692  142.942203  9843_01              0           NaN       0  \n",
       "924  42.944764  142.939803  9844_01              0           NaN       0  \n",
       "925  42.959234  142.908407  9845_01              0           NaN       0  \n",
       "926  42.959453  142.907377  9845_02              0           NaN       0  \n",
       "927  43.092244  142.853692  9792_01              0           NaN       0  \n",
       "\n",
       "[928 rows x 10 columns]"
      ]
     },
     "execution_count": 45,
     "metadata": {},
     "output_type": "execute_result"
    }
   ],
   "source": [
    "df_stops = pd.read_csv(os.path.join(os.getcwd(), f\"{tmp_path}/stops.txt\"))\n",
    "df_stops = df_stops.dropna(axis='columns', how='all') # 列方向、全てNaNなら除去\n",
    "df_stops['stop_z'] = 0 # 後でGeoJSONに書き出すため、ダミーの標高値を入れておく\n",
    "df_stops"
   ]
  },
  {
   "cell_type": "markdown",
   "metadata": {},
   "source": [
    "### 経路の形状座標データ\n"
   ]
  },
  {
   "cell_type": "code",
   "execution_count": 46,
   "metadata": {},
   "outputs": [
    {
     "data": {
      "text/html": [
       "<div>\n",
       "<style scoped>\n",
       "    .dataframe tbody tr th:only-of-type {\n",
       "        vertical-align: middle;\n",
       "    }\n",
       "\n",
       "    .dataframe tbody tr th {\n",
       "        vertical-align: top;\n",
       "    }\n",
       "\n",
       "    .dataframe thead th {\n",
       "        text-align: right;\n",
       "    }\n",
       "</style>\n",
       "<table border=\"1\" class=\"dataframe\">\n",
       "  <thead>\n",
       "    <tr style=\"text-align: right;\">\n",
       "      <th></th>\n",
       "      <th>shape_id</th>\n",
       "      <th>shape_pt_lat</th>\n",
       "      <th>shape_pt_lon</th>\n",
       "      <th>shape_pt_sequence</th>\n",
       "    </tr>\n",
       "  </thead>\n",
       "  <tbody>\n",
       "    <tr>\n",
       "      <th>0</th>\n",
       "      <td>1011</td>\n",
       "      <td>42.918246</td>\n",
       "      <td>143.203402</td>\n",
       "      <td>1</td>\n",
       "    </tr>\n",
       "    <tr>\n",
       "      <th>1</th>\n",
       "      <td>1011</td>\n",
       "      <td>42.918359</td>\n",
       "      <td>143.203279</td>\n",
       "      <td>2</td>\n",
       "    </tr>\n",
       "    <tr>\n",
       "      <th>2</th>\n",
       "      <td>1011</td>\n",
       "      <td>42.918540</td>\n",
       "      <td>143.203468</td>\n",
       "      <td>3</td>\n",
       "    </tr>\n",
       "    <tr>\n",
       "      <th>3</th>\n",
       "      <td>1011</td>\n",
       "      <td>42.918590</td>\n",
       "      <td>143.204152</td>\n",
       "      <td>4</td>\n",
       "    </tr>\n",
       "    <tr>\n",
       "      <th>4</th>\n",
       "      <td>1011</td>\n",
       "      <td>42.919110</td>\n",
       "      <td>143.204036</td>\n",
       "      <td>5</td>\n",
       "    </tr>\n",
       "    <tr>\n",
       "      <th>...</th>\n",
       "      <td>...</td>\n",
       "      <td>...</td>\n",
       "      <td>...</td>\n",
       "      <td>...</td>\n",
       "    </tr>\n",
       "    <tr>\n",
       "      <th>14680</th>\n",
       "      <td>8614</td>\n",
       "      <td>43.014639</td>\n",
       "      <td>142.881222</td>\n",
       "      <td>145</td>\n",
       "    </tr>\n",
       "    <tr>\n",
       "      <th>14681</th>\n",
       "      <td>8614</td>\n",
       "      <td>43.013985</td>\n",
       "      <td>142.880170</td>\n",
       "      <td>146</td>\n",
       "    </tr>\n",
       "    <tr>\n",
       "      <th>14682</th>\n",
       "      <td>8614</td>\n",
       "      <td>43.013661</td>\n",
       "      <td>142.880550</td>\n",
       "      <td>147</td>\n",
       "    </tr>\n",
       "    <tr>\n",
       "      <th>14683</th>\n",
       "      <td>8614</td>\n",
       "      <td>43.013555</td>\n",
       "      <td>142.880371</td>\n",
       "      <td>148</td>\n",
       "    </tr>\n",
       "    <tr>\n",
       "      <th>14684</th>\n",
       "      <td>8614</td>\n",
       "      <td>43.013562</td>\n",
       "      <td>142.880171</td>\n",
       "      <td>149</td>\n",
       "    </tr>\n",
       "  </tbody>\n",
       "</table>\n",
       "<p>14685 rows × 4 columns</p>\n",
       "</div>"
      ],
      "text/plain": [
       "       shape_id  shape_pt_lat  shape_pt_lon  shape_pt_sequence\n",
       "0          1011     42.918246    143.203402                  1\n",
       "1          1011     42.918359    143.203279                  2\n",
       "2          1011     42.918540    143.203468                  3\n",
       "3          1011     42.918590    143.204152                  4\n",
       "4          1011     42.919110    143.204036                  5\n",
       "...         ...           ...           ...                ...\n",
       "14680      8614     43.014639    142.881222                145\n",
       "14681      8614     43.013985    142.880170                146\n",
       "14682      8614     43.013661    142.880550                147\n",
       "14683      8614     43.013555    142.880371                148\n",
       "14684      8614     43.013562    142.880171                149\n",
       "\n",
       "[14685 rows x 4 columns]"
      ]
     },
     "execution_count": 46,
     "metadata": {},
     "output_type": "execute_result"
    }
   ],
   "source": [
    "df_shapes= pd.read_csv(os.path.join(os.getcwd(), f\"{tmp_path}/shapes.txt\"))\n",
    "df_shapes = df_shapes.dropna(axis='columns', how='all') # 列方向、全てNaNなら除去\n",
    "df_shapes"
   ]
  },
  {
   "cell_type": "markdown",
   "metadata": {},
   "source": [
    "## pydeckで停留所を地図上に描画する"
   ]
  },
  {
   "cell_type": "code",
   "execution_count": 47,
   "metadata": {
    "scrolled": false
   },
   "outputs": [
    {
     "data": {
      "application/vnd.jupyter.widget-view+json": {
       "model_id": "06c087e7fb1046ecaefbfbfe90c6f5b1",
       "version_major": 2,
       "version_minor": 0
      },
      "text/plain": [
       "DeckGLWidget(height=600, json_input='{\"initialViewState\": {\"bearing\": 0, \"latitude\": 43.024, \"longitude\": 143.…"
      ]
     },
     "metadata": {},
     "output_type": "display_data"
    }
   ],
   "source": [
    "import pydeck\n",
    "\n",
    "layer_stops = pydeck.Layer(\n",
    "    'ScatterplotLayer',\n",
    "    df_stops,\n",
    "    id='gtfs_stops',\n",
    "    get_position=['stop_lon', 'stop_lat'],\n",
    "    get_radius=30,\n",
    "    get_fill_color=[200, 100, 100, 255],\n",
    "    auto_highlight=True,\n",
    "    pickable=True\n",
    ")\n",
    "\n",
    "layer_shapes = pydeck.Layer(\n",
    "    'ScatterplotLayer',\n",
    "    df_shapes,\n",
    "    id='gtfs_shapes',\n",
    "    get_position=['shape_pt_lon', 'shape_pt_lat'],\n",
    "    get_radius=10,\n",
    "    get_fill_color=[250,250,80,255],\n",
    "    auto_highlight=True,\n",
    "    pickable=True\n",
    ")\n",
    "\n",
    "view_state = pydeck.ViewState(\n",
    "    longitude=143.10,\n",
    "    latitude=43.024,\n",
    "    zoom=10,\n",
    "    min_zoom=5,\n",
    "    max_zoom=15,\n",
    "    pitch=30,\n",
    "    bearing=0)\n",
    "\n",
    "# viewport = pydeck.data_utils.compute_view(df_stops[['stop_lon', 'stop_lat']])\n",
    "\n",
    "r0 = pydeck.Deck(\n",
    "    layers=[layer_stops, layer_shapes],\n",
    "    views=[pydeck.View(type=\"MapView\", controller=True)],\n",
    "    map_style=\"mapbox://styles/mapbox/dark-v9\",\n",
    "    mapbox_key=None,\n",
    "    initial_view_state=view_state,\n",
    "    width=\"100%\",\n",
    "    height=600,\n",
    ")\n",
    "\n",
    "r0.show()"
   ]
  },
  {
   "cell_type": "code",
   "execution_count": 48,
   "metadata": {},
   "outputs": [
    {
     "data": {
      "text/html": [
       "\n",
       "        <iframe\n",
       "            width=\"700\"\n",
       "            height=\"500\"\n",
       "            src=\"./output/gtfs_stops.html\"\n",
       "            frameborder=\"0\"\n",
       "            allowfullscreen\n",
       "        ></iframe>\n",
       "        "
      ],
      "text/plain": [
       "<IPython.lib.display.IFrame at 0x11a118760>"
      ]
     },
     "metadata": {},
     "output_type": "display_data"
    },
    {
     "data": {
      "application/vnd.jupyter.widget-view+json": {
       "model_id": "06c087e7fb1046ecaefbfbfe90c6f5b1",
       "version_major": 2,
       "version_minor": 0
      },
      "text/plain": [
       "DeckGLWidget(height=600, json_input='{\"initialViewState\": {\"bearing\": 0, \"latitude\": 43.024, \"longitude\": 143.…"
      ]
     },
     "metadata": {},
     "output_type": "display_data"
    }
   ],
   "source": [
    "# HTMLファイルを出力しブラウザで表示する\n",
    "r0.to_html(f\"{output_path}/gtfs_stops.html\", open_browser=True, notebook_display=True)\n",
    "\n",
    "r0.show()"
   ]
  },
  {
   "cell_type": "markdown",
   "metadata": {},
   "source": [
    "### ルートと旅程のデータを読み込む"
   ]
  },
  {
   "cell_type": "code",
   "execution_count": 49,
   "metadata": {},
   "outputs": [
    {
     "data": {
      "text/html": [
       "<div>\n",
       "<style scoped>\n",
       "    .dataframe tbody tr th:only-of-type {\n",
       "        vertical-align: middle;\n",
       "    }\n",
       "\n",
       "    .dataframe tbody tr th {\n",
       "        vertical-align: top;\n",
       "    }\n",
       "\n",
       "    .dataframe thead th {\n",
       "        text-align: right;\n",
       "    }\n",
       "</style>\n",
       "<table border=\"1\" class=\"dataframe\">\n",
       "  <thead>\n",
       "    <tr style=\"text-align: right;\">\n",
       "      <th></th>\n",
       "      <th>route_id</th>\n",
       "      <th>agency_id</th>\n",
       "      <th>route_short_name</th>\n",
       "      <th>route_long_name</th>\n",
       "      <th>route_desc</th>\n",
       "      <th>route_type</th>\n",
       "      <th>route_color</th>\n",
       "      <th>route_text_color</th>\n",
       "      <th>service_id</th>\n",
       "      <th>trip_id</th>\n",
       "      <th>trip_headsign</th>\n",
       "      <th>trip_short_name</th>\n",
       "    </tr>\n",
       "    <tr>\n",
       "      <th>shape_id</th>\n",
       "      <th></th>\n",
       "      <th></th>\n",
       "      <th></th>\n",
       "      <th></th>\n",
       "      <th></th>\n",
       "      <th></th>\n",
       "      <th></th>\n",
       "      <th></th>\n",
       "      <th></th>\n",
       "      <th></th>\n",
       "      <th></th>\n",
       "      <th></th>\n",
       "    </tr>\n",
       "  </thead>\n",
       "  <tbody>\n",
       "    <tr>\n",
       "      <th>8601</th>\n",
       "      <td>8601</td>\n",
       "      <td>8460101001629</td>\n",
       "      <td>清水コミバス</td>\n",
       "      <td>清水地区線（東地区～西地区）</td>\n",
       "      <td>月・水・木運行</td>\n",
       "      <td>3</td>\n",
       "      <td>0000A0</td>\n",
       "      <td>FFFFFF</td>\n",
       "      <td>清</td>\n",
       "      <td>清_09時40分_系統8601</td>\n",
       "      <td>清水線・東地区&lt;月・水・木運行&gt;（東団地・清和団地 経由）</td>\n",
       "      <td>清水地区線</td>\n",
       "    </tr>\n",
       "    <tr>\n",
       "      <th>8613</th>\n",
       "      <td>8613</td>\n",
       "      <td>8460101001629</td>\n",
       "      <td>清水コミバス</td>\n",
       "      <td>御影地区線 十勝清水～御影（フクハラ経由）</td>\n",
       "      <td>火・金運行</td>\n",
       "      <td>3</td>\n",
       "      <td>0000A0</td>\n",
       "      <td>FFFFFF</td>\n",
       "      <td>御</td>\n",
       "      <td>御_11時15分_系統8613</td>\n",
       "      <td>御影線 御影駅前&lt;火・金運行&gt;（フクハラ・啓仁会・御影駅前・あさひ荘・御影支所 経由）</td>\n",
       "      <td>御影地区線</td>\n",
       "    </tr>\n",
       "    <tr>\n",
       "      <th>8611</th>\n",
       "      <td>8611</td>\n",
       "      <td>8460101001629</td>\n",
       "      <td>清水コミバス</td>\n",
       "      <td>御影地区線 十勝清水～御影</td>\n",
       "      <td>火・金運行</td>\n",
       "      <td>3</td>\n",
       "      <td>0000A0</td>\n",
       "      <td>FFFFFF</td>\n",
       "      <td>御</td>\n",
       "      <td>御_08時50分_系統8611</td>\n",
       "      <td>御影線 御影駅前&lt;火・金運行&gt;（啓仁会・御影駅前・あさひ荘・御影支所 経由）</td>\n",
       "      <td>御影地区線</td>\n",
       "    </tr>\n",
       "    <tr>\n",
       "      <th>8612</th>\n",
       "      <td>8612</td>\n",
       "      <td>8460101001629</td>\n",
       "      <td>清水コミバス</td>\n",
       "      <td>御影地区線 御影～十勝清水</td>\n",
       "      <td>火・金運行</td>\n",
       "      <td>3</td>\n",
       "      <td>0000A0</td>\n",
       "      <td>FFFFFF</td>\n",
       "      <td>御</td>\n",
       "      <td>御_15時08分_系統8612</td>\n",
       "      <td>御影線 清水駅前&lt;火・金運行&gt;（御影支所・あさひ荘・御影駅前・啓仁会 経由）</td>\n",
       "      <td>御影地区線</td>\n",
       "    </tr>\n",
       "    <tr>\n",
       "      <th>8614</th>\n",
       "      <td>8614</td>\n",
       "      <td>8460101001629</td>\n",
       "      <td>清水コミバス</td>\n",
       "      <td>御影地区線 御影～十勝清水（フクハラ経由）</td>\n",
       "      <td>火・金運行</td>\n",
       "      <td>3</td>\n",
       "      <td>0000A0</td>\n",
       "      <td>FFFFFF</td>\n",
       "      <td>御</td>\n",
       "      <td>御_09時41分_系統8614</td>\n",
       "      <td>御影線 清水駅前&lt;火・金運行&gt;（御影支所・あさひ荘・御影駅前・啓仁会・フクハラ 経由）</td>\n",
       "      <td>御影地区線</td>\n",
       "    </tr>\n",
       "  </tbody>\n",
       "</table>\n",
       "</div>"
      ],
      "text/plain": [
       "          route_id      agency_id route_short_name        route_long_name  \\\n",
       "shape_id                                                                    \n",
       "8601          8601  8460101001629           清水コミバス         清水地区線（東地区～西地区）   \n",
       "8613          8613  8460101001629           清水コミバス  御影地区線 十勝清水～御影（フクハラ経由）   \n",
       "8611          8611  8460101001629           清水コミバス          御影地区線 十勝清水～御影   \n",
       "8612          8612  8460101001629           清水コミバス          御影地区線 御影～十勝清水   \n",
       "8614          8614  8460101001629           清水コミバス  御影地区線 御影～十勝清水（フクハラ経由）   \n",
       "\n",
       "         route_desc  route_type route_color route_text_color service_id  \\\n",
       "shape_id                                                                  \n",
       "8601        月・水・木運行           3      0000A0           FFFFFF          清   \n",
       "8613          火・金運行           3      0000A0           FFFFFF          御   \n",
       "8611          火・金運行           3      0000A0           FFFFFF          御   \n",
       "8612          火・金運行           3      0000A0           FFFFFF          御   \n",
       "8614          火・金運行           3      0000A0           FFFFFF          御   \n",
       "\n",
       "                  trip_id                                trip_headsign  \\\n",
       "shape_id                                                                 \n",
       "8601      清_09時40分_系統8601                清水線・東地区<月・水・木運行>（東団地・清和団地 経由）   \n",
       "8613      御_11時15分_系統8613  御影線 御影駅前<火・金運行>（フクハラ・啓仁会・御影駅前・あさひ荘・御影支所 経由）   \n",
       "8611      御_08時50分_系統8611       御影線 御影駅前<火・金運行>（啓仁会・御影駅前・あさひ荘・御影支所 経由）   \n",
       "8612      御_15時08分_系統8612       御影線 清水駅前<火・金運行>（御影支所・あさひ荘・御影駅前・啓仁会 経由）   \n",
       "8614      御_09時41分_系統8614  御影線 清水駅前<火・金運行>（御影支所・あさひ荘・御影駅前・啓仁会・フクハラ 経由）   \n",
       "\n",
       "         trip_short_name  \n",
       "shape_id                  \n",
       "8601               清水地区線  \n",
       "8613               御影地区線  \n",
       "8611               御影地区線  \n",
       "8612               御影地区線  \n",
       "8614               御影地区線  "
      ]
     },
     "execution_count": 49,
     "metadata": {},
     "output_type": "execute_result"
    }
   ],
   "source": [
    "df_routes = pd.read_csv(os.path.join(os.getcwd(), f\"{tmp_path}/routes.txt\"))\n",
    "df_routes = df_routes.dropna(how='all', axis='columns')\n",
    "\n",
    "df_trips = pd.read_csv(os.path.join(os.getcwd(), f\"{tmp_path}/trips.txt\"))\n",
    "df_trips = df_trips.dropna(how='all', axis='columns').drop_duplicates('shape_id') # 重複は削除\n",
    "\n",
    "### ルートと旅程を結合する\n",
    "df = df_routes.merge(df_trips, on='route_id', how='inner')\n",
    "df = df.set_index('shape_id')\n",
    "df.tail()"
   ]
  },
  {
   "cell_type": "markdown",
   "metadata": {},
   "source": [
    "### 経路の形状座標データを配列に出力"
   ]
  },
  {
   "cell_type": "code",
   "execution_count": 50,
   "metadata": {},
   "outputs": [],
   "source": [
    "data = []\n",
    "\n",
    "for shpid, df_ in df_shapes.groupby('shape_id'):\n",
    "    line_path = {}\n",
    "    line_path[\"path\"] = df_.loc[:, ['shape_pt_lon', 'shape_pt_lat']].values.tolist()\n",
    "    line_path[\"name\"] = shpid\n",
    "    data.append(line_path)"
   ]
  },
  {
   "cell_type": "markdown",
   "metadata": {},
   "source": [
    "## PathLayerで経路を可視化"
   ]
  },
  {
   "cell_type": "code",
   "execution_count": 51,
   "metadata": {},
   "outputs": [
    {
     "data": {
      "text/html": [
       "\n",
       "        <iframe\n",
       "            width=\"700\"\n",
       "            height=\"500\"\n",
       "            src=\"./output/gtfs_shapes.html\"\n",
       "            frameborder=\"0\"\n",
       "            allowfullscreen\n",
       "        ></iframe>\n",
       "        "
      ],
      "text/plain": [
       "<IPython.lib.display.IFrame at 0x108bdd9d0>"
      ]
     },
     "metadata": {},
     "output_type": "display_data"
    },
    {
     "data": {
      "application/vnd.jupyter.widget-view+json": {
       "model_id": "5d3ac2a3019544b3b9a2a929ffcb2f72",
       "version_major": 2,
       "version_minor": 0
      },
      "text/plain": [
       "DeckGLWidget(height=600, json_input='{\"initialViewState\": {\"latitude\": 43.01, \"longitude\": 143.09, \"zoom\": 9.7…"
      ]
     },
     "metadata": {},
     "output_type": "display_data"
    }
   ],
   "source": [
    "path_layer = pydeck.Layer(\n",
    "    'PathLayer',\n",
    "    data,\n",
    "    get_path='path',\n",
    "    get_color=[255,200,100],\n",
    "    get_width=4,\n",
    "    width_scale=20,\n",
    "    width_min_pixels=2,\n",
    "    line_width_scale=10\n",
    ")\n",
    "\n",
    "r1 = pydeck.Deck(\n",
    "    layers=[path_layer, layer_stops],\n",
    "    map_style=\"mapbox://styles/mapbox/dark-v9\",\n",
    "    initial_view_state=pydeck.ViewState(\n",
    "        longitude=143.09,\n",
    "        latitude=43.01,\n",
    "        zoom=9.7),\n",
    "    width=\"100%\",\n",
    "    height=600,\n",
    ")\n",
    "\n",
    "r1.to_html(f\"{output_path}/gtfs_shapes.html\", open_browser=True, notebook_display=True)\n",
    "\n",
    "r1.show()"
   ]
  }
 ],
 "metadata": {
  "kernelspec": {
   "display_name": "Python 3",
   "language": "python",
   "name": "python3"
  },
  "language_info": {
   "codemirror_mode": {
    "name": "ipython",
    "version": 3
   },
   "file_extension": ".py",
   "mimetype": "text/x-python",
   "name": "python",
   "nbconvert_exporter": "python",
   "pygments_lexer": "ipython3",
   "version": "3.8.0"
  }
 },
 "nbformat": 4,
 "nbformat_minor": 2
}
